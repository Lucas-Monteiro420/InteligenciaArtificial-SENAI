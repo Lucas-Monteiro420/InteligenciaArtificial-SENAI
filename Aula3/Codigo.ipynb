{
 "cells": [
  {
   "cell_type": "code",
   "execution_count": null,
   "id": "46655ae3",
   "metadata": {},
   "outputs": [],
   "source": [
    "#Instala a biblioteca matplotlib\n",
    "%pip install matplotlib"
   ]
  },
  {
   "cell_type": "code",
   "execution_count": null,
   "id": "77787a3f",
   "metadata": {},
   "outputs": [],
   "source": [
    "%pip install -q numpy"
   ]
  },
  {
   "cell_type": "code",
   "execution_count": 12,
   "id": "10e0ccf1",
   "metadata": {},
   "outputs": [],
   "source": [
    "import matplotlib.pyplot as plt #Importa a biblioteca matplotlib\n",
    "import numpy as np #Importa a biblioteca numpy"
   ]
  }
 ],
 "metadata": {
  "kernelspec": {
   "display_name": "Python 3",
   "language": "python",
   "name": "python3"
  },
  "language_info": {
   "codemirror_mode": {
    "name": "ipython",
    "version": 3
   },
   "file_extension": ".py",
   "mimetype": "text/x-python",
   "name": "python",
   "nbconvert_exporter": "python",
   "pygments_lexer": "ipython3",
   "version": "3.13.1"
  }
 },
 "nbformat": 4,
 "nbformat_minor": 5
}
