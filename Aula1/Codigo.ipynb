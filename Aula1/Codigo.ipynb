{
 "cells": [
  {
   "cell_type": "code",
   "execution_count": 1,
   "id": "bb7d5f46",
   "metadata": {},
   "outputs": [
    {
     "name": "stdout",
     "output_type": "stream",
     "text": [
      "oi\n"
     ]
    }
   ],
   "source": [
    "print(\"oi\")"
   ]
  },
  {
   "cell_type": "code",
   "execution_count": 2,
   "id": "0e265961",
   "metadata": {},
   "outputs": [
    {
     "name": "stdout",
     "output_type": "stream",
     "text": [
      "Collecting pandas\n",
      "  Downloading pandas-2.3.1-cp311-cp311-win_amd64.whl.metadata (19 kB)\n",
      "Collecting numpy>=1.23.2 (from pandas)\n",
      "  Downloading numpy-2.3.2-cp311-cp311-win_amd64.whl.metadata (60 kB)\n",
      "     ---------------------------------------- 0.0/60.9 kB ? eta -:--:--\n",
      "     --------------------------------- ------ 51.2/60.9 kB 2.6 MB/s eta 0:00:01\n",
      "     ---------------------------------------- 60.9/60.9 kB 1.1 MB/s eta 0:00:00\n",
      "Requirement already satisfied: python-dateutil>=2.8.2 in c:\\users\\dsadm\\appdata\\roaming\\python\\python311\\site-packages (from pandas) (2.9.0.post0)\n",
      "Collecting pytz>=2020.1 (from pandas)\n",
      "  Downloading pytz-2025.2-py2.py3-none-any.whl.metadata (22 kB)\n",
      "Collecting tzdata>=2022.7 (from pandas)\n",
      "  Downloading tzdata-2025.2-py2.py3-none-any.whl.metadata (1.4 kB)\n",
      "Requirement already satisfied: six>=1.5 in c:\\users\\dsadm\\appdata\\roaming\\python\\python311\\site-packages (from python-dateutil>=2.8.2->pandas) (1.17.0)\n",
      "Downloading pandas-2.3.1-cp311-cp311-win_amd64.whl (11.3 MB)\n",
      "   ---------------------------------------- 0.0/11.3 MB ? eta -:--:--\n",
      "   -- ------------------------------------- 0.7/11.3 MB 20.8 MB/s eta 0:00:01\n",
      "   ------ --------------------------------- 1.9/11.3 MB 23.3 MB/s eta 0:00:01\n",
      "   ------------- -------------------------- 3.7/11.3 MB 29.8 MB/s eta 0:00:01\n",
      "   ----------------------- ---------------- 6.7/11.3 MB 39.1 MB/s eta 0:00:01\n",
      "   --------------------------------- ------ 9.4/11.3 MB 43.0 MB/s eta 0:00:01\n",
      "   ---------------------------------------  11.3/11.3 MB 50.4 MB/s eta 0:00:01\n",
      "   ---------------------------------------  11.3/11.3 MB 50.4 MB/s eta 0:00:01\n",
      "   ---------------------------------------  11.3/11.3 MB 50.4 MB/s eta 0:00:01\n",
      "   ---------------------------------------  11.3/11.3 MB 50.4 MB/s eta 0:00:01\n",
      "   ---------------------------------------  11.3/11.3 MB 50.4 MB/s eta 0:00:01\n",
      "   ---------------------------------------  11.3/11.3 MB 50.4 MB/s eta 0:00:01\n",
      "   ---------------------------------------  11.3/11.3 MB 50.4 MB/s eta 0:00:01\n",
      "   ---------------------------------------  11.3/11.3 MB 50.4 MB/s eta 0:00:01\n",
      "   ---------------------------------------  11.3/11.3 MB 50.4 MB/s eta 0:00:01\n",
      "   ---------------------------------------  11.3/11.3 MB 50.4 MB/s eta 0:00:01\n",
      "   ---------------------------------------  11.3/11.3 MB 50.4 MB/s eta 0:00:01\n",
      "   ---------------------------------------  11.3/11.3 MB 50.4 MB/s eta 0:00:01\n",
      "   ---------------------------------------  11.3/11.3 MB 50.4 MB/s eta 0:00:01\n",
      "   ---------------------------------------- 11.3/11.3 MB 13.1 MB/s eta 0:00:00\n",
      "Downloading numpy-2.3.2-cp311-cp311-win_amd64.whl (13.1 MB)\n",
      "   ---------------------------------------- 0.0/13.1 MB ? eta -:--:--\n",
      "   -------- ------------------------------- 2.8/13.1 MB 58.6 MB/s eta 0:00:01\n",
      "   ---------------- ----------------------- 5.3/13.1 MB 56.1 MB/s eta 0:00:01\n",
      "   ----------------------- ---------------- 7.7/13.1 MB 54.7 MB/s eta 0:00:01\n",
      "   ------------------------------- -------- 10.4/13.1 MB 54.4 MB/s eta 0:00:01\n",
      "   ---------------------------------------  12.9/13.1 MB 54.4 MB/s eta 0:00:01\n",
      "   ---------------------------------------  13.1/13.1 MB 54.4 MB/s eta 0:00:01\n",
      "   ---------------------------------------- 13.1/13.1 MB 40.9 MB/s eta 0:00:00\n",
      "Downloading pytz-2025.2-py2.py3-none-any.whl (509 kB)\n",
      "   ---------------------------------------- 0.0/509.2 kB ? eta -:--:--\n",
      "   ---------------------------------------  501.8/509.2 kB ? eta -:--:--\n",
      "   --------------------------------------- 509.2/509.2 kB 10.8 MB/s eta 0:00:00\n",
      "Downloading tzdata-2025.2-py2.py3-none-any.whl (347 kB)\n",
      "   ---------------------------------------- 0.0/347.8 kB ? eta -:--:--\n",
      "   --------------------------------------- 347.8/347.8 kB 10.9 MB/s eta 0:00:00\n",
      "Installing collected packages: pytz, tzdata, numpy, pandas\n",
      "Successfully installed numpy-2.3.2 pandas-2.3.1 pytz-2025.2 tzdata-2025.2\n",
      "Note: you may need to restart the kernel to use updated packages.\n"
     ]
    },
    {
     "name": "stderr",
     "output_type": "stream",
     "text": [
      "  WARNING: The scripts f2py.exe and numpy-config.exe are installed in 'c:\\Users\\dsadm\\AppData\\Local\\Programs\\Python\\Python311\\Scripts' which is not on PATH.\n",
      "  Consider adding this directory to PATH or, if you prefer to suppress this warning, use --no-warn-script-location.\n",
      "\n",
      "[notice] A new release of pip is available: 24.0 -> 25.2\n",
      "[notice] To update, run: python.exe -m pip install --upgrade pip\n"
     ]
    }
   ],
   "source": [
    "pip install pandas "
   ]
  },
  {
   "cell_type": "code",
   "execution_count": 3,
   "id": "e49cc430",
   "metadata": {},
   "outputs": [],
   "source": [
    "import pandas as pd "
   ]
  }
 ],
 "metadata": {
  "kernelspec": {
   "display_name": "Python 3",
   "language": "python",
   "name": "python3"
  },
  "language_info": {
   "codemirror_mode": {
    "name": "ipython",
    "version": 3
   },
   "file_extension": ".py",
   "mimetype": "text/x-python",
   "name": "python",
   "nbconvert_exporter": "python",
   "pygments_lexer": "ipython3",
   "version": "3.11.8"
  }
 },
 "nbformat": 4,
 "nbformat_minor": 5
}
